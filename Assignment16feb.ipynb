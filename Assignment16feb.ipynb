{
 "cells": [
  {
   "attachments": {},
   "cell_type": "markdown",
   "metadata": {},
   "source": [
    "Q1. What is a database? Differentiate between SQL and NoSQL databases."
   ]
  },
  {
   "attachments": {},
   "cell_type": "markdown",
   "metadata": {},
   "source": [
    "A database is a collection of data that is organized in a way that allows for easy storage, retrieval, and manipulation of information. It serves as a central location for data that is used by applications and systems.\n",
    "\n",
    "SQL and NoSQL databases are two different types of databases that differ in their approach to storing and managing data. SQL (Structured Query Language) databases are relational databases that store data in tables with predefined schemas. They use SQL to manage and manipulate data, and are well-suited for handling complex queries and transactions. Examples of SQL databases include MySQL, PostgreSQL, and Oracle.\n",
    "\n",
    "On the other hand, NoSQL (Not Only SQL) databases are non-relational databases that store data in a more flexible, unstructured format. They are designed to handle large amounts of data that may be unstructured or semi-structured, and may not have a predefined schema. NoSQL databases are typically more scalable and can handle more complex data structures. Examples of NoSQL databases include MongoDB, Cassandra, and DynamoDB."
   ]
  },
  {
   "attachments": {},
   "cell_type": "markdown",
   "metadata": {},
   "source": [
    "Q2. What is DDL? Explain why CREATE, DROP, ALTER, and TRUNCATE are used with an example."
   ]
  },
  {
   "attachments": {},
   "cell_type": "raw",
   "metadata": {},
   "source": [
    "DDl - data defination language\n",
    " Create_\n",
    "\n",
    " CREATE TABLE employees (\n",
    "    ID INT PRIMARY KEY,\n",
    "    name VARCHAR(50),\n",
    "    salary DECIMAL(10, 2)\n",
    ");\n",
    "\n",
    "\n",
    "Drop_\n",
    "\n",
    "DROP TABLE employees;\n",
    "\n",
    "Alter_\n",
    "\n",
    "ALTER TABLE employees\n",
    "ADD department VARCHAR(50);\n",
    "\n",
    "\n",
    "Truncate\n",
    "\n",
    "TRUNCATE TABLE employees;\n",
    "\n"
   ]
  },
  {
   "cell_type": "markdown",
   "metadata": {},
   "source": []
  },
  {
   "attachments": {},
   "cell_type": "markdown",
   "metadata": {},
   "source": [
    "Q3. What is DML? Explain INSERT, UPDATE, and DELETE with an example.\n",
    "\n",
    "DML stand for Data manipulation language\n",
    "\n",
    "Insert - used to inster new row in data\n",
    "\n",
    "Insert into employee values  (__VALUES__)\n",
    "\n",
    "update - update value of row based on certain condition\n",
    "\n",
    "update employees\n",
    "set\n",
    "salary = 50000 where id = 1\n",
    "\n",
    "delete - delete value of row based on condition\n",
    "\n",
    "delete from employee\n",
    "where id =1 "
   ]
  },
  {
   "attachments": {},
   "cell_type": "markdown",
   "metadata": {},
   "source": [
    "Q4. What is DQL? Explain SELECT with an example.\n",
    "\n",
    "\n",
    "DQL stand for Data Query Language\n",
    "\n",
    "\n",
    "select * from employee"
   ]
  },
  {
   "cell_type": "markdown",
   "metadata": {},
   "source": []
  },
  {
   "cell_type": "markdown",
   "metadata": {},
   "source": [
    "Q5. Explain Primary Key and Foreign Key.\n",
    "Primary Key if column that has unique, not null one per table\n",
    "\n",
    "Foreign key is column that point to Primary key of other table\n",
    "\n",
    "Foreign key (id) references system(id) "
   ]
  },
  {
   "cell_type": "raw",
   "metadata": {},
   "source": [
    "import mysql.connector\n",
    "\n",
    "# Connect to the database\n",
    "mydb = mysql.connector.connect(\n",
    "  host=\"localhost\",\n",
    "  user=\"username\",\n",
    "  password=\"password\",\n",
    "  database=\"database_name\"\n",
    ")\n",
    "\n",
    "# Create a cursor object\n",
    "mycursor = mydb.cursor()\n",
    "\n",
    "# Execute a SQL query\n",
    "mycursor.execute(\"SELECT * FROM customers\")\n",
    "\n",
    "# Fetch the results of the query\n",
    "result = mycursor.fetchall()\n",
    "\n",
    "# Print the results\n",
    "for row in result:\n",
    "  print(row)\n"
   ]
  },
  {
   "attachments": {},
   "cell_type": "markdown",
   "metadata": {},
   "source": [
    "Q7. Give the order of execution of SQL clauses in an SQL query.\n",
    "\n",
    "\n",
    "From, where, Group by, having, select , order by ,limit "
   ]
  }
 ],
 "metadata": {
  "kernelspec": {
   "display_name": "Python 3",
   "language": "python",
   "name": "python3"
  },
  "language_info": {
   "codemirror_mode": {
    "name": "ipython",
    "version": 3
   },
   "file_extension": ".py",
   "mimetype": "text/x-python",
   "name": "python",
   "nbconvert_exporter": "python",
   "pygments_lexer": "ipython3",
   "version": "3.11.1"
  },
  "orig_nbformat": 4,
  "vscode": {
   "interpreter": {
    "hash": "e7370f93d1d0cde622a1f8e1c04877d8463912d04d973331ad4851f04de6915a"
   }
  }
 },
 "nbformat": 4,
 "nbformat_minor": 2
}
