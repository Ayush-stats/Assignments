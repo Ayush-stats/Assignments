{
 "cells": [
  {
   "cell_type": "markdown",
   "id": "c746675a-899f-4751-b5c4-47d52d1a2d8c",
   "metadata": {},
   "source": [
    "Q1. You are writing code for a company. The requirement of the company is that you create a python\n",
    "function that will check whether the password entered by the user is correct or not. The function should\n",
    "take the password as input and return the string “Valid Password” if the entered password follows the\n",
    "below-given password guidelines else it should return “Invalid Password”.\n",
    "\n",
    "Note: 1. The Password should contain at least two uppercase letters and at least two lowercase letters.\n",
    "2. The Password should contain at least a number and three special characters.\n",
    "3. The length of the password should be 10 characters long.\n"
   ]
  },
  {
   "cell_type": "code",
   "execution_count": 64,
   "id": "874bf457-7f07-4a06-9bf3-cc79cb9907f6",
   "metadata": {},
   "outputs": [
    {
     "name": "stdout",
     "output_type": "stream",
     "text": [
      "Enter Password\n"
     ]
    },
    {
     "name": "stdin",
     "output_type": "stream",
     "text": [
      " AAaa!@#321\n"
     ]
    },
    {
     "name": "stdout",
     "output_type": "stream",
     "text": [
      "A\n",
      "A\n",
      "a\n",
      "a\n",
      "!\n",
      "@\n",
      "#\n",
      "3\n",
      "2\n",
      "1\n",
      "Valid password\n"
     ]
    }
   ],
   "source": [
    "u = 0\n",
    "l = 0\n",
    "n = 0\n",
    "p = 0\n",
    "f = 0\n",
    "spe = \"!@#$%^&*()\"\n",
    "while (f==0):\n",
    "    print(\"Enter Password\")\n",
    "    password = str(input()) \n",
    "    \n",
    "    if(len(password)!=10):\n",
    "        f=0\n",
    "        print(\"invalid Password\")\n",
    "        continue\n",
    "    else:\n",
    "        for i in password:\n",
    "            print(i)\n",
    "            if (i.islower()):\n",
    "                l+=1\n",
    "                \n",
    "            if (i.isupper()):\n",
    "                 u+=1           \n",
    " \n",
    "            if (i.isdigit()):\n",
    "                 n+=1    \n",
    "            \n",
    "            if(i in spe):\n",
    "                 p+=1  \n",
    "                \n",
    "    if (l>=2 and u>=2 and p>=3 and p>=1):\n",
    "         f=1\n",
    "    else:\n",
    "        print(\"Invalid Password\") \n",
    "        continue\n",
    "    break\n",
    "        \n",
    "if f==1:\n",
    "    print(\"Valid password\")\n",
    "\n",
    "            "
   ]
  },
  {
   "cell_type": "markdown",
   "id": "ecc9b6ff-254c-4461-882d-791158aa0096",
   "metadata": {},
   "source": [
    "\n",
    "\n",
    "\n",
    "\n",
    "\n",
    "\n"
   ]
  },
  {
   "cell_type": "markdown",
   "id": "8cbccc46-eeac-464b-a35d-9bfe2f7120ef",
   "metadata": {},
   "source": [
    "Q2. Solve the below-given questions using at least one of the following:\n",
    "1. Lambda functioJ\n",
    "2. Filter functioJ\n",
    "3. Zap functioJ\n",
    "4. List Comprehension\n",
    "\n",
    "B Check if the string starts with a particular letterY\n",
    "\n",
    "B Check if the string is numericY\n",
    "\n",
    "B Sort a list of tuples having fruit names and their quantity. \n",
    "\n",
    "[(\"mango\",99),(\"orange\",80), (\"grapes\", 1000)-\n",
    "B Find the squares of numbers from 1 to 10Y\n",
    "B Find the cube root of numbers from 1 to 10Y\n",
    "B Check if a given number is evenY\n",
    "B Filter odd numbers from the given list.\n",
    "[1,2,3,4,5,6,7,8,9,10-\n",
    "B Sort a list of integers into positive and negative integers lists.\n",
    "[1,2,3,4,5,6,-1,-2,-3,-4,-5,0]"
   ]
  },
  {
   "cell_type": "code",
   "execution_count": 123,
   "id": "ccb3edea-1619-4f57-a430-16e88be90eb3",
   "metadata": {},
   "outputs": [],
   "source": [
    "Str1 =\"Ayush_Joshi\"\n",
    "Str2 = \"123456\""
   ]
  },
  {
   "cell_type": "code",
   "execution_count": 113,
   "id": "4e6735eb-8ed9-4f55-9f8c-5426fc115c41",
   "metadata": {},
   "outputs": [],
   "source": [
    "test = lambda r : True if list(\"\".join(r))[0] == \"A\" else False"
   ]
  },
  {
   "cell_type": "code",
   "execution_count": 125,
   "id": "314d06b3-9bbd-41df-b08b-6545c4fdf310",
   "metadata": {},
   "outputs": [
    {
     "data": {
      "text/plain": [
       "True"
      ]
     },
     "execution_count": 125,
     "metadata": {},
     "output_type": "execute_result"
    }
   ],
   "source": [
    "test(Str1)"
   ]
  },
  {
   "cell_type": "code",
   "execution_count": 158,
   "id": "a6148726-d197-4665-b590-6083bf678baa",
   "metadata": {},
   "outputs": [],
   "source": [
    "test2 = lambda r: True if r.isnumeric() else False"
   ]
  },
  {
   "cell_type": "code",
   "execution_count": 159,
   "id": "6b9bf723-9ec1-45e3-9129-570eb5589e82",
   "metadata": {},
   "outputs": [
    {
     "data": {
      "text/plain": [
       "True"
      ]
     },
     "execution_count": 159,
     "metadata": {},
     "output_type": "execute_result"
    }
   ],
   "source": [
    "test2(Str2)"
   ]
  },
  {
   "cell_type": "code",
   "execution_count": 154,
   "id": "e75e1c47-3397-4026-a79d-d6c98077e2e9",
   "metadata": {},
   "outputs": [],
   "source": [
    "List = [(\"mango\",99),(\"orange\",80), (\"grapes\", 1000)]"
   ]
  },
  {
   "cell_type": "code",
   "execution_count": 168,
   "id": "b5232943-9e49-48c5-b2bb-d5f8c93460da",
   "metadata": {},
   "outputs": [
    {
     "data": {
      "text/plain": [
       "[('orange', 80), ('mango', 99), ('grapes', 1000)]"
      ]
     },
     "execution_count": 168,
     "metadata": {},
     "output_type": "execute_result"
    }
   ],
   "source": [
    "List.sort(key = lambda x: x[1])\n",
    "List"
   ]
  },
  {
   "cell_type": "markdown",
   "id": "d8a55a6a-bb91-4d6b-b8e0-eadf0f40c280",
   "metadata": {},
   "source": []
  },
  {
   "cell_type": "code",
   "execution_count": 216,
   "id": "bcac7d7b-6dcd-40f8-98c9-58f7aab1ac16",
   "metadata": {},
   "outputs": [
    {
     "name": "stdout",
     "output_type": "stream",
     "text": [
      "1\n",
      "4\n",
      "9\n",
      "16\n",
      "25\n",
      "36\n",
      "49\n",
      "64\n",
      "81\n",
      "100\n"
     ]
    }
   ],
   "source": [
    "#Find the squares of numbers from 1 to 10\n",
    "\n",
    "def sqare(x):\n",
    "    c=1\n",
    "    while(c<=x):\n",
    "        yield c**2\n",
    "        c+=1\n",
    "for i in sqare(10):\n",
    "    print(i)"
   ]
  },
  {
   "cell_type": "code",
   "execution_count": 217,
   "id": "e1251bdd-8ac2-4fa3-ba02-27f1f4c0939e",
   "metadata": {},
   "outputs": [
    {
     "name": "stdout",
     "output_type": "stream",
     "text": [
      "1.0\n",
      "1.2599210498948732\n",
      "1.4422495703074083\n",
      "1.5874010519681994\n",
      "1.7099759466766968\n",
      "1.8171205928321397\n",
      "1.912931182772389\n",
      "2.0\n",
      "2.080083823051904\n",
      "2.154434690031884\n"
     ]
    }
   ],
   "source": [
    "#Find the cuberoot of numbers from 1 to 10\n",
    "\n",
    "def cuberoot(x):\n",
    "    c=1\n",
    "    while(c<=x):\n",
    "        yield c**(1/3)\n",
    "        c+=1\n",
    "for i in cuberoot(10):\n",
    "    print(i)\n"
   ]
  },
  {
   "cell_type": "code",
   "execution_count": 218,
   "id": "ec3c9b1b-2b47-4f01-bc1f-3ca91f04382f",
   "metadata": {},
   "outputs": [
    {
     "name": "stdout",
     "output_type": "stream",
     "text": [
      "True\n",
      "False\n"
     ]
    }
   ],
   "source": [
    "#Check if a given number is evenY\n",
    "\n",
    "iseven = lambda x : x%2 == 0 \n",
    "print(iseven(6))\n",
    "print(iseven(7))\n"
   ]
  },
  {
   "cell_type": "code",
   "execution_count": 192,
   "id": "513522e5-ceb8-44ad-b379-22f2cfbc20ec",
   "metadata": {},
   "outputs": [],
   "source": [
    "#Filter odd numbers from the given list.\n",
    "odd = filter(lambda x : x%2 != 0 ,[1,2,3,4,5,6,7,8,9,10])"
   ]
  },
  {
   "cell_type": "code",
   "execution_count": 195,
   "id": "a2a68926-c50a-4cec-9f75-05b64610fce7",
   "metadata": {},
   "outputs": [
    {
     "data": {
      "text/plain": [
       "[1, 3, 5, 7, 9]"
      ]
     },
     "execution_count": 195,
     "metadata": {},
     "output_type": "execute_result"
    }
   ],
   "source": [
    "list(odd)"
   ]
  },
  {
   "cell_type": "code",
   "execution_count": 203,
   "id": "77032101-6b71-49d4-a417-9e219d29de5e",
   "metadata": {},
   "outputs": [],
   "source": [
    "#B Sort a list of integers into positive and negative integers lists.\n",
    "seq = [1,2,3,4,5,6,-1,-2,-3,-4,-5,0]\n",
    "pos = filter(lambda x:x>0,seq)\n",
    "neg = filter(lambda x:x<0,seq) "
   ]
  },
  {
   "cell_type": "code",
   "execution_count": 204,
   "id": "84468b3a-975c-44e1-84ac-6de51a1e5abc",
   "metadata": {},
   "outputs": [
    {
     "name": "stdout",
     "output_type": "stream",
     "text": [
      "[1, 2, 3, 4, 5, 6]\n",
      "[-1, -2, -3, -4, -5]\n"
     ]
    }
   ],
   "source": [
    "print(list(pos))\n",
    "print(list(neg))"
   ]
  }
 ],
 "metadata": {
  "kernelspec": {
   "display_name": "Python 3 (ipykernel)",
   "language": "python",
   "name": "python3"
  },
  "language_info": {
   "codemirror_mode": {
    "name": "ipython",
    "version": 3
   },
   "file_extension": ".py",
   "mimetype": "text/x-python",
   "name": "python",
   "nbconvert_exporter": "python",
   "pygments_lexer": "ipython3",
   "version": "3.10.8"
  }
 },
 "nbformat": 4,
 "nbformat_minor": 5
}
