{
 "cells": [
  {
   "cell_type": "code",
   "execution_count": 1,
   "id": "7a3ac6ce-420f-4574-9382-d2a62d18a6f1",
   "metadata": {},
   "outputs": [],
   "source": [
    "class Vehicle:\n",
    "    def __init__(self, nv, max_speed, average_of_vehicle):\n",
    "        self.name_of_vehicle = nv\n",
    "        self.max_speed = max_speed\n",
    "        self.average_of_vehicle = average_of_vehicle\n"
   ]
  },
  {
   "cell_type": "code",
   "execution_count": 2,
   "id": "952eac5b-2c9f-458d-9d7b-e0f1a0f7d1fc",
   "metadata": {},
   "outputs": [],
   "source": [
    "a = Vehicle(\"wagon\",200,50)"
   ]
  },
  {
   "cell_type": "code",
   "execution_count": 3,
   "id": "318856f7-bad8-4de6-8d97-54d73fca0d0f",
   "metadata": {},
   "outputs": [],
   "source": [
    "class Car(Vehicle):\n",
    "    def seating_capacity(self, capacity):\n",
    "        return f\"{self.name_of_vehicle} has a seating capacity of {capacity} passengers.\"\n"
   ]
  },
  {
   "cell_type": "code",
   "execution_count": 4,
   "id": "cfdf41cb-5e71-4b75-a563-b2e39d09be21",
   "metadata": {},
   "outputs": [],
   "source": [
    "a= Car(\"wagonr\",32,43)\n"
   ]
  },
  {
   "cell_type": "code",
   "execution_count": 5,
   "id": "13676af3-ea76-4ca3-8623-b45e6f72fc4d",
   "metadata": {},
   "outputs": [
    {
     "data": {
      "text/plain": [
       "'wagonr has a seating capacity of 5 passengers.'"
      ]
     },
     "execution_count": 5,
     "metadata": {},
     "output_type": "execute_result"
    }
   ],
   "source": [
    "a.seating_capacity(5)"
   ]
  },
  {
   "cell_type": "code",
   "execution_count": 6,
   "id": "fffd7007-abe5-4e09-9274-ce48c406213c",
   "metadata": {},
   "outputs": [
    {
     "name": "stdout",
     "output_type": "stream",
     "text": [
      "Sparrow is eating.\n",
      "I am flying.\n"
     ]
    }
   ],
   "source": [
    "class Animal:\n",
    "    def __init__(self, name):\n",
    "        self.name = name\n",
    "    \n",
    "    def eat(self):\n",
    "        print(f\"{self.name} is eating.\")\n",
    "\n",
    "class Flyable:\n",
    "    def fly(self):\n",
    "        print(\"I am flying.\")\n",
    "\n",
    "class Bird(Animal, Flyable):\n",
    "    def __init__(self, name):\n",
    "        Animal.__init__(self, name)\n",
    "        Flyable.__init__(self)\n",
    "\n",
    "bird = Bird(\"Sparrow\")\n",
    "bird.eat()\n",
    "bird.fly()\n"
   ]
  },
  {
   "cell_type": "code",
   "execution_count": 7,
   "id": "78617ebb-93ed-4c01-ba13-2aa01e49e164",
   "metadata": {},
   "outputs": [],
   "source": [
    "class Employee:\n",
    "    def __init__(self, name, salary):\n",
    "        self.__name = name\n",
    "        self.__salary = salary\n",
    "\n",
    "    @property\n",
    "    def name(self):\n",
    "        return self.__name\n",
    "\n",
    "    @name.setter\n",
    "    def name(self, name):\n",
    "        self.__name = name\n",
    "\n",
    "    @property\n",
    "    def salary(self):\n",
    "        return self.__salary\n",
    "\n",
    "    @salary.setter\n",
    "    def salary(self, salary):\n",
    "        if salary < self.__salary:\n",
    "            self.__salary = salary\n",
    "        else:\n",
    "            pass\n",
    "\n"
   ]
  },
  {
   "cell_type": "code",
   "execution_count": 11,
   "id": "41c79343",
   "metadata": {},
   "outputs": [],
   "source": [
    "\n",
    "e = Employee(\"ayush\",80000)\n",
    "e.name = \"bhaskar\"\n",
    "e.salary = 70000"
   ]
  },
  {
   "cell_type": "code",
   "execution_count": 12,
   "id": "f572a328",
   "metadata": {},
   "outputs": [
    {
     "name": "stdout",
     "output_type": "stream",
     "text": [
      "bhaskar\n",
      "70000\n"
     ]
    }
   ],
   "source": [
    "\n",
    "print(e.name)\n",
    "print(e.salary)"
   ]
  },
  {
   "cell_type": "code",
   "execution_count": 3,
   "id": "8dbeee25",
   "metadata": {},
   "outputs": [],
   "source": [
    "class college():\n",
    "    def __init__(self) :\n",
    "        pass\n",
    "    @classmethod\n",
    "    def enter_new(cls,name,location):\n",
    "        cls.name = name\n",
    "        cls.location = location\n",
    "    def output(self):\n",
    "        print(self.name,self.location)"
   ]
  },
  {
   "cell_type": "code",
   "execution_count": 4,
   "id": "38308f4c",
   "metadata": {},
   "outputs": [],
   "source": [
    "a = college()"
   ]
  },
  {
   "cell_type": "code",
   "execution_count": 6,
   "id": "5e23841f",
   "metadata": {},
   "outputs": [],
   "source": [
    "a.enter_new(\"Ramjas college\",\"Delhi\")"
   ]
  },
  {
   "cell_type": "code",
   "execution_count": 7,
   "id": "00d7c356",
   "metadata": {},
   "outputs": [
    {
     "name": "stdout",
     "output_type": "stream",
     "text": [
      "Ramjas college Delhi\n"
     ]
    }
   ],
   "source": [
    "a.output()"
   ]
  },
  {
   "cell_type": "code",
   "execution_count": null,
   "id": "a56e67ac",
   "metadata": {},
   "outputs": [],
   "source": []
  }
 ],
 "metadata": {
  "kernelspec": {
   "display_name": "Python 3",
   "language": "python",
   "name": "python3"
  },
  "language_info": {
   "codemirror_mode": {
    "name": "ipython",
    "version": 3
   },
   "file_extension": ".py",
   "mimetype": "text/x-python",
   "name": "python",
   "nbconvert_exporter": "python",
   "pygments_lexer": "ipython3",
   "version": "3.9.13"
  },
  "vscode": {
   "interpreter": {
    "hash": "d122ab13f835faa121d8a7e5d099a2a80a429381ec3df188794f6e23031ee3c4"
   }
  }
 },
 "nbformat": 4,
 "nbformat_minor": 5
}
