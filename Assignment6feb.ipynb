{
 "cells": [
  {
   "cell_type": "markdown",
   "id": "64d6d4e2-09ff-4b76-828d-79eded3e7a8a",
   "metadata": {},
   "source": [
    "Q1. Create a function which will take a list as an argument and return the product of all the numbers after creating a flat list.\n",
    "Use the below-given list as an argument for your function.\n",
    "\n",
    "\n",
    "list1 = [1,2,3,4, [44,55,66, True], False, (34,56,78,89,34), {1,2,3,3,2,1}, {1:34, \"key2\": [55, 67, 78, 89], 4: (45,\n",
    "22, 61, 34)}, [56, 'data science'], 'Machine Learning']\n"
   ]
  },
  {
   "cell_type": "code",
   "execution_count": 69,
   "id": "f5d31599-b904-40ac-8212-f082d92ef564",
   "metadata": {},
   "outputs": [
    {
     "data": {
      "text/plain": [
       "[1,\n",
       " 2,\n",
       " 3,\n",
       " 4,\n",
       " [44, 55, 66, True],\n",
       " False,\n",
       " (34, 56, 78, 89, 34),\n",
       " {1, 2, 3},\n",
       " {1: 34, 'key2': [55, 67, 78, 89], 4: (45, 22, 61, 34)},\n",
       " [56, 'data science'],\n",
       " 'Machine Learning']"
      ]
     },
     "execution_count": 69,
     "metadata": {},
     "output_type": "execute_result"
    }
   ],
   "source": [
    "list1 = [1,2,3,4, [44,55,66, True], False, (34,56,78,89,34), {1,2,3,3,2,1}, {1:34, \"key2\": [55, 67, 78, 89], 4: (45,\n",
    "22, 61, 34)}, [56, 'data science'], 'Machine Learning']\n",
    "list1"
   ]
  },
  {
   "cell_type": "code",
   "execution_count": 85,
   "id": "0411eeaa-9f0d-4d8b-8e8f-9f673a77d826",
   "metadata": {},
   "outputs": [],
   "source": [
    "from functools import reduce\n",
    "def fun(l1):\n",
    "    n = []\n",
    "    for i in l1:\n",
    "        if type(i) == int:\n",
    "            n.append(i)\n",
    "        else:\n",
    "            if type(i) == dict:\n",
    "                for j in i.keys():\n",
    "                    if type(i[j]) == int:\n",
    "                        n.append(i[j])\n",
    "                    if type(j) == int:\n",
    "                        n.append(j)\n",
    "    pro = int(reduce(lambda a,b:a*b,n))\n",
    "    return pro"
   ]
  },
  {
   "cell_type": "code",
   "execution_count": 86,
   "id": "d7afbb82-c95d-48b7-9434-42d8d0acc647",
   "metadata": {},
   "outputs": [
    {
     "data": {
      "text/plain": [
       "3264"
      ]
     },
     "execution_count": 86,
     "metadata": {},
     "output_type": "execute_result"
    }
   ],
   "source": [
    "fun(list1)"
   ]
  },
  {
   "cell_type": "markdown",
   "id": "fccf436e-7d11-43e1-ad5e-1bc6965674bc",
   "metadata": {},
   "source": [
    "Q2. Write a python program for encrypting a message sent to you by your friend. The logic of encryption should be such that, for a the output should be z. For b, the output should be y. For c, the output should be x respectively. Also, the whitespace should be replaced with a dollar sign. Keep the punctuation marks unchanged.\n",
    "\n",
    "Input Sentence: I want to become a Data Scientist.\n",
    "\n",
    "Encrypt the above input sentence using the program you just created.\n",
    "Note: Convert the given input sentence into lowercase before encrypting. The final output should be\n",
    "lowercase."
   ]
  },
  {
   "cell_type": "code",
   "execution_count": 88,
   "id": "f7aedb54-e704-4e86-b5c7-793f5ee2c223",
   "metadata": {},
   "outputs": [],
   "source": [
    "sent = \"I want to become a Data Scientist.\"\n"
   ]
  },
  {
   "cell_type": "code",
   "execution_count": 111,
   "id": "d0f33a7a-3841-4a16-a50d-ab21c65006c3",
   "metadata": {},
   "outputs": [],
   "source": [
    "def enc(s):\n",
    "    n = ''\n",
    "    for i in s:\n",
    "        if i == \" \":\n",
    "            n = n + \"$\"\n",
    "        else:\n",
    "            if i.islower():\n",
    "                n = n + chr(ord(\"z\")+ord(\"a\")-ord(i))\n",
    "            else :\n",
    "                 n = n + chr(ord(\"Z\")+ord(\"A\")-ord(i))\n",
    "        \n",
    "    return n"
   ]
  },
  {
   "cell_type": "code",
   "execution_count": 112,
   "id": "d2d047c2-0a10-4bd7-a9f0-2342f0721ce5",
   "metadata": {},
   "outputs": [
    {
     "data": {
      "text/plain": [
       "'R$dzmg$gl$yvxlnv$z$Wzgz$Hxrvmgrhgm'"
      ]
     },
     "execution_count": 112,
     "metadata": {},
     "output_type": "execute_result"
    }
   ],
   "source": [
    "enc(sent)"
   ]
  },
  {
   "cell_type": "code",
   "execution_count": 115,
   "id": "9a8faf7d-d5fc-4603-8959-bce35096140d",
   "metadata": {},
   "outputs": [
    {
     "name": "stdout",
     "output_type": "stream",
     "text": [
      "R dzmg gl yvxlnv z Wzgz Hxrvmgrhg."
     ]
    }
   ],
   "source": [
    "reciprocalString(sent)"
   ]
  }
 ],
 "metadata": {
  "kernelspec": {
   "display_name": "Python 3 (ipykernel)",
   "language": "python",
   "name": "python3"
  },
  "language_info": {
   "codemirror_mode": {
    "name": "ipython",
    "version": 3
   },
   "file_extension": ".py",
   "mimetype": "text/x-python",
   "name": "python",
   "nbconvert_exporter": "python",
   "pygments_lexer": "ipython3",
   "version": "3.10.8"
  }
 },
 "nbformat": 4,
 "nbformat_minor": 5
}
