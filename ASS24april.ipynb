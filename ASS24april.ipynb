{
 "cells": [
  {
   "cell_type": "markdown",
   "metadata": {},
   "source": [
    "Q1. Write a Python code to implement the KNN classifier algorithm on load_iris dataset in\n",
    "sklearn.datasets."
   ]
  },
  {
   "cell_type": "code",
   "execution_count": 10,
   "metadata": {},
   "outputs": [
    {
     "name": "stderr",
     "output_type": "stream",
     "text": [
      "/home/ayush/anaconda3/lib/python3.9/site-packages/scipy/__init__.py:146: UserWarning: A NumPy version >=1.16.5 and <1.23.0 is required for this version of SciPy (detected version 1.23.5\n",
      "  warnings.warn(f\"A NumPy version >={np_minversion} and <{np_maxversion}\"\n"
     ]
    },
    {
     "ename": "NameError",
     "evalue": "name 'knn' is not defined",
     "output_type": "error",
     "traceback": [
      "\u001b[0;31m---------------------------------------------------------------------------\u001b[0m",
      "\u001b[0;31mNameError\u001b[0m                                 Traceback (most recent call last)",
      "Cell \u001b[0;32mIn[10], line 11\u001b[0m\n\u001b[1;32m      9\u001b[0m \u001b[39mfrom\u001b[39;00m \u001b[39msklearn\u001b[39;00m\u001b[39m.\u001b[39;00m\u001b[39mmodel_selection\u001b[39;00m \u001b[39mimport\u001b[39;00m GridSearchCV\n\u001b[1;32m     10\u001b[0m param \u001b[39m=\u001b[39m {\u001b[39m'\u001b[39m\u001b[39mn_neighbors\u001b[39m\u001b[39m'\u001b[39m : [\u001b[39m3\u001b[39m,\u001b[39m4\u001b[39m,\u001b[39m5\u001b[39m,\u001b[39m2\u001b[39m], \u001b[39m'\u001b[39m\u001b[39mmetric\u001b[39m\u001b[39m'\u001b[39m : [\u001b[39m'\u001b[39m\u001b[39meuclidean\u001b[39m\u001b[39m'\u001b[39m,\u001b[39m'\u001b[39m\u001b[39mmanhattan\u001b[39m\u001b[39m'\u001b[39m,\u001b[39m'\u001b[39m\u001b[39mcosine\u001b[39m\u001b[39m'\u001b[39m]}\n\u001b[0;32m---> 11\u001b[0m Cv \u001b[39m=\u001b[39m GridSearchCV(param_grid\u001b[39m=\u001b[39mparam, estimator\u001b[39m=\u001b[39m knn,n_jobs\u001b[39m=\u001b[39m\u001b[39m-\u001b[39m\u001b[39m1\u001b[39m,cv \u001b[39m=\u001b[39m \u001b[39m2\u001b[39m)\n\u001b[1;32m     12\u001b[0m Cv\u001b[39m.\u001b[39mfit(X_test,y_test)\n\u001b[1;32m     13\u001b[0m pd\u001b[39m.\u001b[39mDataFrame(Cv\u001b[39m.\u001b[39mcv_results_)\n",
      "\u001b[0;31mNameError\u001b[0m: name 'knn' is not defined"
     ]
    }
   ],
   "source": [
    "\n",
    "import sklearn.datasets\n",
    "import pandas as pd\n",
    "import numpy as np\n",
    "from sklearn.neighbors import KNeighborsClassifier\n",
    "df = sklearn.datasets.load_iris()\n",
    "from sklearn.model_selection import  train_test_split\n",
    "X_test,X_test,y_train,y_test = train_test_split(df.data,df.target,random_state=2,test_size=0.2)\n",
    "\n",
    "from sklearn.model_selection import GridSearchCV\n",
    "param = {'n_neighbors' : [3,4,5,2], 'metric' : ['euclidean','manhattan','cosine']}\n",
    "Cv = GridSearchCV(param_grid=param, estimator= knn,n_jobs=-1,cv = 2)\n",
    "Cv.fit(X_test,y_test)\n",
    "pd.DataFrame(Cv.cv_results_)\n",
    "print(Cv.best_estimator_)\n",
    "\n",
    "\n",
    "knn = KNeighborsClassifier(metric='euclidean', n_neighbors=3)\n",
    "\n",
    "knn.fit(X_test,y_test)\n",
    "y_pred = knn.predict(X_test)\n",
    "\n",
    "\n",
    "print(knn.score(X_test,y_test))"
   ]
  },
  {
   "cell_type": "markdown",
   "metadata": {},
   "source": [
    "Q2. Write a Python code to implement the KNN regressor algorithm on load_boston dataset in\n",
    "sklearn.datasets."
   ]
  },
  {
   "cell_type": "code",
   "execution_count": 15,
   "metadata": {},
   "outputs": [
    {
     "data": {
      "text/plain": [
       "0.8040159029827298"
      ]
     },
     "execution_count": 15,
     "metadata": {},
     "output_type": "execute_result"
    }
   ],
   "source": [
    "import pandas as pd\n",
    "from sklearn.neighbors import KNeighborsRegressor\n",
    "from sklearn.model_selection import train_test_split\n",
    "from sklearn.preprocessing import StandardScaler\n",
    "\n",
    "df = pd.read_csv('bostom.csv')\n",
    "\n",
    "X = df.iloc[:, :-1]\n",
    "y = df['medv']\n",
    "\n",
    "X_train, X_test, y_train, y_test = train_test_split(X, y, random_state=21, train_size=0.8)\n",
    "\n",
    "# Standardization\n",
    "sc = StandardScaler()\n",
    "X_train = sc.fit_transform(X_train)\n",
    "X_test = sc.transform(X_test)\n",
    "\n",
    "from sklearn.model_selection import GridSearchCV\n",
    "\n",
    "knn = KNeighborsRegressor()\n",
    "param = {'n_neighbors' : [3,4,5,2], 'metric' : ['euclidean','manhattan','cosine']}\n",
    "cv = GridSearchCV(knn,param_grid= param)\n",
    "cv.fit(X_train,y_train)\n",
    "pd.DataFrame(cv.cv_results_)\n",
    "cv.best_params_\n",
    "\n",
    "knn = KNeighborsRegressor(n_neighbors = cv.best_params_['n_neighbors'],metric= cv.best_params_['metric'])\n",
    "knn.fit(X_train,y_train)\n",
    "y_pred = knn.predict(X_test)\n",
    "knn.score(X_test,y_test)\n"
   ]
  },
  {
   "cell_type": "code",
   "execution_count": 27,
   "metadata": {},
   "outputs": [],
   "source": [
    "def euclidean(x,y):\n",
    "    return sum((x-y)**2)**(1/2) "
   ]
  },
  {
   "cell_type": "code",
   "execution_count": 11,
   "metadata": {},
   "outputs": [],
   "source": [
    "def euclidean(list1,list2):\n",
    "    list1 = np.array(list1)\n",
    "    list2 = np.array(list2)\n",
    "    if(len(list1)!=len(list2)): raise Exception(\"List length is not same in Euclidean distance function\")\n",
    "    else: return np.linalg.norm(list1-list2)\n",
    "\n",
    "def manhattan(list1,list2):\n",
    "    list1 = np.array(list1)\n",
    "    list2 = np.array(list2)\n",
    "    if(len(list1)!=len(list2)): raise Exception(\"List length is not same in manhattan distance function\")\n",
    "    else: return np.sum(np.abs(list2-list1))\n"
   ]
  }
 ],
 "metadata": {
  "kernelspec": {
   "display_name": "base",
   "language": "python",
   "name": "python3"
  },
  "language_info": {
   "codemirror_mode": {
    "name": "ipython",
    "version": 3
   },
   "file_extension": ".py",
   "mimetype": "text/x-python",
   "name": "python",
   "nbconvert_exporter": "python",
   "pygments_lexer": "ipython3",
   "version": "3.9.13"
  },
  "orig_nbformat": 4,
  "vscode": {
   "interpreter": {
    "hash": "d122ab13f835faa121d8a7e5d099a2a80a429381ec3df188794f6e23031ee3c4"
   }
  }
 },
 "nbformat": 4,
 "nbformat_minor": 2
}
